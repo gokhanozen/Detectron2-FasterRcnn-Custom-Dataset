{
  "nbformat": 4,
  "nbformat_minor": 0,
  "metadata": {
    "accelerator": "GPU",
    "colab": {
      "name": "Detectron2_detection.ipynb",
      "provenance": [],
      "collapsed_sections": []
    },
    "kernelspec": {
      "display_name": "Python 3",
      "name": "python3"
    },
    "language_info": {
      "name": "python"
    }
  },
  "cells": [
    {
      "cell_type": "code",
      "metadata": {
        "id": "T3nCvm1mTbK_"
      },
      "source": [
        "from google.colab import drive\n",
        "drive.mount('/content/drive')"
      ],
      "execution_count": null,
      "outputs": []
    },
    {
      "cell_type": "code",
      "metadata": {
        "id": "QOcKXhVN9HmP"
      },
      "source": [
        "!unzip \"/content/drive/MyDrive/detectron2_detection.zip\""
      ],
      "execution_count": null,
      "outputs": []
    },
    {
      "cell_type": "markdown",
      "metadata": {
        "id": "YTV4jWZMYMlu"
      },
      "source": [
        "###**Detectron2'yi Colab'a Yükleme**\n"
      ]
    },
    {
      "cell_type": "code",
      "metadata": {
        "id": "6pjRZdeiYPPI"
      },
      "source": [
        "!pip install pyyaml==5.1\n",
        "!pip install torch==1.8.0+cu101 torchvision==0.9.0+cu101 -f https://download.pytorch.org/whl/torch_stable.html\n",
        "#install old version of pytorch since detectron2 hasn't released packages for pytorch 1.9"
      ],
      "execution_count": null,
      "outputs": []
    },
    {
      "cell_type": "code",
      "metadata": {
        "id": "HpUGHZuwYZvS"
      },
      "source": [
        "!pip install detectron2 -f https://dl.fbaipublicfiles.com/detectron2/wheels/cu101/torch1.8/index.html\n",
        "# After this step it will ask you to restart the runtime, please do it."
      ],
      "execution_count": null,
      "outputs": []
    },
    {
      "cell_type": "code",
      "metadata": {
        "id": "KGheWs13YoM9"
      },
      "source": [
        "import torch\n",
        "assert torch.__version__.startswith(\"1.8\") \n",
        "import torchvision\n",
        "import cv2"
      ],
      "execution_count": 4,
      "outputs": []
    },
    {
      "cell_type": "code",
      "metadata": {
        "id": "UPhV9QzOTggW"
      },
      "source": [
        "import os\n",
        "import numpy as np\n",
        "import json\n",
        "import random\n",
        "import matplotlib.pyplot as plt\n",
        "%matplotlib inline\n",
        "\n",
        "from detectron2.structures import BoxMode\n",
        "from detectron2.data import DatasetCatalog, MetadataCatalog"
      ],
      "execution_count": 5,
      "outputs": []
    },
    {
      "cell_type": "markdown",
      "metadata": {
        "id": "RfDewMfBq2U6"
      },
      "source": [
        "### Burada, veri seti kendi özel formatındadır, bu nedenle onu ayrıştırmak ve onu dedektör2'nin standart formatına hazırlamak için bir fonksiyon yazıyoruz. Kullanıcı, özel biçimde bir veri kümesi kullanırken böyle bir işlevi kullanmalıdır."
      ]
    },
    {
      "cell_type": "markdown",
      "metadata": {
        "id": "03jcsFg9X-9v"
      },
      "source": [
        "###**Verileri Detectron2 Yapılandırmasına Uygun Şekilde Kaydetme**"
      ]
    },
    {
      "cell_type": "code",
      "metadata": {
        "id": "jPDbZ10mTgdf"
      },
      "source": [
        "def get_data_dicts(directory, classes):\n",
        "    dataset_dicts = []\n",
        "    for filename in [file for file in os.listdir(directory) if file.endswith('.json')]:\n",
        "        json_file = os.path.join(directory, filename)\n",
        "        with open(json_file) as f:\n",
        "            img_anns = json.load(f)\n",
        "\n",
        "        record = {}\n",
        "        \n",
        "        filename = os.path.join(directory, img_anns[\"imagePath\"])\n",
        "        \n",
        "        record[\"file_name\"] = filename\n",
        "        record[\"height\"] = 700\n",
        "        record[\"width\"] = 700\n",
        "      \n",
        "        annos = img_anns[\"shapes\"]\n",
        "        objs = []\n",
        "        for anno in annos:\n",
        "            px = [a[0] for a in anno['points']] # x coord\n",
        "            py = [a[1] for a in anno['points']] # y-coord\n",
        "            poly = [(x, y) for x, y in zip(px, py)] # poly for segmentation\n",
        "            poly = [p for x in poly for p in x]\n",
        "\n",
        "            obj = {\n",
        "                \"bbox\": [np.min(px), np.min(py), np.max(px), np.max(py)],\n",
        "                \"bbox_mode\": BoxMode.XYXY_ABS,\n",
        "                \"category_id\": classes.index(anno['label']),\n",
        "                \"iscrowd\": 0\n",
        "            }\n",
        "            objs.append(obj)\n",
        "        record[\"annotations\"] = objs\n",
        "        dataset_dicts.append(record)\n",
        "    return dataset_dicts"
      ],
      "execution_count": 11,
      "outputs": []
    },
    {
      "cell_type": "code",
      "metadata": {
        "id": "NGt-e47XTgas"
      },
      "source": [
        "classes = ['raspberry', 'multimetre','salca']\n",
        "\n",
        "data_path = '/content/detectron2_detection/'\n",
        "\n",
        "for d in [\"train\", \"test\"]:\n",
        "    DatasetCatalog.register(\n",
        "        \"my_\" + d, \n",
        "        lambda d=d: get_data_dicts(data_path+d, classes)\n",
        "    )\n",
        "    MetadataCatalog.get(\"my_\" + d).set(thing_classes=classes)\n",
        "\n",
        "microcontroller_metadata = MetadataCatalog.get(\"my_train\")"
      ],
      "execution_count": 13,
      "outputs": []
    },
    {
      "cell_type": "markdown",
      "metadata": {
        "id": "BUDK8zsnbGG6"
      },
      "source": [
        "###**Detectron2 Object Detection Modelinin Eğitimi**\n"
      ]
    },
    {
      "cell_type": "code",
      "metadata": {
        "id": "Nm3OOWjXTgZZ"
      },
      "source": [
        "from detectron2 import model_zoo\n",
        "from detectron2.engine import DefaultTrainer, DefaultPredictor\n",
        "from detectron2.config import get_cfg\n",
        "from detectron2.utils.visualizer import ColorMode, Visualizer\n",
        "from matplotlib.patches import Rectangle"
      ],
      "execution_count": 9,
      "outputs": []
    },
    {
      "cell_type": "markdown",
      "metadata": {
        "id": "trWnqHbprbu_"
      },
      "source": [
        "###**Yapılandırma Dosyasını Oluşturma**"
      ]
    },
    {
      "cell_type": "code",
      "metadata": {
        "id": "tZswZczBTgWx"
      },
      "source": [
        "cfg = get_cfg() # Yapılandırma Dosyasını Oluşturuyoruz\n",
        "cfg.merge_from_file(model_zoo.get_config_file(\"COCO-Detection/faster_rcnn_R_101_FPN_3x.yaml\")) # Yapılandırma Dosyasını Çeker ve Yapılandırma Dosyasına Ekler\n",
        "cfg.DATASETS.TRAIN = (\"my_train\",) # Train Verilerimiz Yapılandırma Dosyasına Kaydeder\n",
        "cfg.DATASETS.TEST = ()\n",
        "cfg.DATALOADER.NUM_WORKERS = 2 # Çalışan Sayısı\n",
        "cfg.MODEL.WEIGHTS = model_zoo.get_checkpoint_url(\"COCO-Detection/faster_rcnn_R_101_FPN_3x.yaml\") # Ağırlıkları Çeker ve Yapılandırma Dosyasına Ekler\n",
        "cfg.SOLVER.IMS_PER_BATCH = 2 # Batch Size\n",
        "cfg.SOLVER.BASE_LR = 0.001 # Learning Rate (Öğrenme Oranı)\n",
        "cfg.SOLVER.GAMMA = 0.05 # Learning Rate Azaltma Çarpımı\n",
        "cfg.SOLVER.STEPS = [500] # Learning Rate Azaltma Adım Sayısı\n",
        "cfg.TEST.EVAL_PERIOD = 200 # Eğitim Sırasında Modeli Değerlendirmek İçin Adım Sayısı\n",
        "\n",
        "cfg.SOLVER.MAX_ITER = 2000 # İterasyon Sayısı\n",
        "cfg.MODEL.ROI_HEADS.NUM_CLASSES = 3 # Sınıf Sayısı"
      ],
      "execution_count": 8,
      "outputs": []
    },
    {
      "cell_type": "code",
      "metadata": {
        "id": "W4AzNO35bm98"
      },
      "source": [
        "os.makedirs(cfg.OUTPUT_DIR, exist_ok=True) # Model Sonucu İçin Klasör Oluşturur\n",
        "trainer = DefaultTrainer(cfg) # Modeli Train Moduna Geçirir Yapılandırma Dosyası ile Birlikte\n",
        "trainer.resume_or_load(resume=False) # Model Eğitimine 0'dan Başlamak İçin False Yapıyoruz "
      ],
      "execution_count": null,
      "outputs": []
    },
    {
      "cell_type": "code",
      "metadata": {
        "id": "0ptRzXxG0gxU"
      },
      "source": [
        "trainer.train() # Model Eğitimine Başlar"
      ],
      "execution_count": null,
      "outputs": []
    },
    {
      "cell_type": "code",
      "metadata": {
        "id": "E8K8R9JqL0jh"
      },
      "source": [
        "%load_ext tensorboard \n",
        "%tensorboard --logdir output"
      ],
      "execution_count": null,
      "outputs": []
    },
    {
      "cell_type": "markdown",
      "metadata": {
        "id": "Z4f1Tot2esU-"
      },
      "source": [
        "###**Eğitilmiş Model testi**"
      ]
    },
    {
      "cell_type": "code",
      "metadata": {
        "id": "lqDbn2HedARc"
      },
      "source": [
        "cfg.MODEL.WEIGHTS = os.path.join(cfg.OUTPUT_DIR, \"model_final.pth\") # Ağırlık Dosyamızı Yapılandırma Dosyamıza Kaydeder\n",
        "cfg.MODEL.ROI_HEADS.SCORE_THRESH_TEST = 0.58 # Test için Eşik Değerimiz\n",
        "cfg.DATASETS.TEST = (\"my_test\", ) # Tets Verilerimiz Yapılandırma Dosyasına Kaydeder\n",
        "predictor = DefaultPredictor(cfg) #Modeli Test Moduna Geçirir Yapılandırma Dosyası ile Birlikte\n",
        "test_metadata = MetadataCatalog.get(\"my_test\")\n",
        "test_dataset_dicts = get_data_dicts(data_path+'test', classes)"
      ],
      "execution_count": null,
      "outputs": []
    },
    {
      "cell_type": "code",
      "metadata": {
        "id": "bRzUnRyosdnO"
      },
      "source": [
        "cfg.MODEL.ROI_HEADS.SCORE_THRESH_TEST = 0.58 # Test için Eşik Değerimiz\n"
      ],
      "execution_count": null,
      "outputs": []
    },
    {
      "cell_type": "markdown",
      "metadata": {
        "id": "B-XirUkGnODL"
      },
      "source": [
        "###**Resim Testi**"
      ]
    },
    {
      "cell_type": "code",
      "metadata": {
        "id": "IHcgGp8Rfy7S"
      },
      "source": [
        "for d in random.sample(test_dataset_dicts, 4):    \n",
        "    img = cv2.imread(d[\"file_name\"])\n",
        "    outputs = predictor(img)\n",
        "    v = Visualizer(img[:, :, ::-1],\n",
        "                   metadata=microcontroller_metadata, \n",
        "                   scale=0.8, \n",
        "                   #instance_mode=ColorMode.IMAGE_BW # removes the colors of unsegmented pixels\n",
        "    )\n",
        "    v = v.draw_instance_predictions(outputs[\"instances\"].to(\"cpu\"))\n",
        "    plt.figure(figsize = (20, 10))\n",
        "    plt.imshow(cv2.cvtColor(v.get_image()[:, :, ::-1], cv2.COLOR_BGR2RGB))\n",
        "    plt.show()"
      ],
      "execution_count": null,
      "outputs": []
    },
    {
      "cell_type": "code",
      "metadata": {
        "id": "-QzKzEwKmQIi"
      },
      "source": [
        "from detectron2.utils.visualizer import ColorMode\n",
        "import glob\n",
        "from google.colab.patches import cv2_imshow\n",
        "for imageName in glob.glob('/content/drive/MyDrive/proje/resim_video/a.jpg'):\n",
        "  im = cv2.imread(imageName)\n",
        "  outputs = predictor(im)\n",
        "  v = Visualizer(im[:, :, ::-1],\n",
        "                metadata=test_metadata, \n",
        "                scale=0.8\n",
        "                 )\n",
        "  out = v.draw_instance_predictions(outputs[\"instances\"].to(\"cpu\"))\n",
        "  cv2_imshow(out.get_image()[:, :, ::-1])"
      ],
      "execution_count": null,
      "outputs": []
    },
    {
      "cell_type": "markdown",
      "metadata": {
        "id": "QZynVIP2OHXr"
      },
      "source": [
        "###**Video Testi**"
      ]
    },
    {
      "cell_type": "code",
      "metadata": {
        "id": "M8bHPwu4SbIG"
      },
      "source": [
        "from detectron2.config import get_cfg\n",
        "cfg = get_cfg() \n",
        "cfg.merge_from_file(model_zoo.get_config_file(\"COCO-Detection/faster_rcnn_R_101_FPN_3x.yaml\")) #Yapılandırma Dosyası\n",
        "cfg.DATASETS.TRAIN = (\"my_train\",) \n",
        "cfg.DATASETS.TEST = ()\n",
        "cfg.DATALOADER.NUM_WORKERS = 2 \n",
        "cfg.SOLVER.IMS_PER_BATCH = 2 \n",
        "cfg.SOLVER.BASE_LR = 0.001 \n",
        "cfg.SOLVER.GAMMA = 0.05 \n",
        "cfg.SOLVER.STEPS = [500] \n",
        "cfg.TEST.EVAL_PERIOD = 200 \n",
        "cfg.SOLVER.MAX_ITER = 2000 \n",
        "cfg.MODEL.ROI_HEADS.NUM_CLASSES = 3 \n",
        "cfg.MODEL.WEIGHTS = \"/content/output/model_final.pth\"\n",
        "cfg.MODEL.ROI_HEADS.SCORE_THRESH_TEST = 0.58\n",
        "test_dataset_dicts = get_data_dicts(data_path+'train', classes)\n",
        "\n",
        "cfg.merge_from_list([\"MODEL.WEIGHTS\", \"weights.pth\"])   # can also load values from a list of str\n",
        "print(cfg.dump())  # print formatted configs\n",
        "with open(\"output.yaml\", \"w\") as f:\n",
        "  f.write(cfg.dump())   # save config to file"
      ],
      "execution_count": null,
      "outputs": []
    },
    {
      "cell_type": "code",
      "metadata": {
        "id": "dDqreXOkZJIR"
      },
      "source": [
        "!git clone https://github.com/facebookresearch/detectron2"
      ],
      "execution_count": null,
      "outputs": []
    },
    {
      "cell_type": "code",
      "metadata": {
        "id": "shmoDaU-qA0C"
      },
      "source": [
        "%run detectron2/demo/demo.py --config-file /content/output.yaml --video-input /content/drive/MyDrive/son_test.mp4 --confidence-threshold 0.58 --output video-output.mp4 \\\n",
        "  --opts MODEL.WEIGHTS /content/output/model_final.pth"
      ],
      "execution_count": null,
      "outputs": []
    },
    {
      "cell_type": "code",
      "metadata": {
        "id": "9LhwRxlwOwNv"
      },
      "source": [
        "from google.colab import files\n",
        "files.download('/content/video-output.mp4')"
      ],
      "execution_count": null,
      "outputs": []
    },
    {
      "cell_type": "code",
      "metadata": {
        "id": "ZDOahV5prjKF"
      },
      "source": [
        "from google.colab import files\n",
        "files.download('/content/output/model_final.pth')"
      ],
      "execution_count": null,
      "outputs": []
    }
  ]
}